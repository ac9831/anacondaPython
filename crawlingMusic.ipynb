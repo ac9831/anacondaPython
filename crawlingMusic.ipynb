{
 "cells": [
  {
   "cell_type": "code",
   "execution_count": 2,
   "metadata": {
    "collapsed": true
   },
   "outputs": [
    {
     "name": "stdout",
     "output_type": "stream",
     "text": [
      "50\n",
      "새삥 (Prod. by ZICO) (Feat. 호미들)|지코 (ZICO)\n",
      "After LIKE|IVE (아이브)\n",
      "Shut Down|BLACKPINK\n",
      "Hype boy|NewJeans\n",
      "Attention|NewJeans\n",
      "우린 그렇게 사랑해서|강민경 (다비치) & 잔나비 최정훈\n",
      "Pink Venom|BLACKPINK\n",
      "딱 10CM만|10CM & BIG Naughty (서동현)\n",
      "LOVE DIVE|IVE (아이브)\n",
      "Monologue|테이 (Tei)\n",
      "사랑은 늘 도망가|임영웅\n",
      "LAW (Prod. by Czaer)|비비 (BIBI) & 윤미래\n",
      "우리들의 블루스|임영웅\n",
      "Cookie|NewJeans\n",
      "Rush Hour (Feat. j-hope of BTS)|Crush\n",
      "자격지심 (Feat. ZICO)|BE'O (비오)\n",
      "그때 그 순간 그대로 (그그그)|WSG워너비 (가야G)\n",
      "다시 만날 수 있을까|임영웅\n",
      "FOREVER 1|소녀시대 (GIRLS' GENERATION)\n",
      "그라데이션|10CM\n",
      "이제 나만 믿어요|임영웅\n",
      "무지개|임영웅\n",
      "아버지|임영웅\n",
      "That's Hilarious|Charlie Puth\n",
      "보고싶었어|WSG워너비 (4FIRE)\n",
      "TOMBOY|(여자)아이들\n",
      "A bientot|임영웅\n",
      "손이 참 곱던 그대|임영웅\n",
      "사랑해 진짜|임영웅\n",
      "연애편지|임영웅\n",
      "사랑역|임영웅\n",
      "보금자리|임영웅\n",
      "사랑해요 그대를|임영웅\n",
      "내 기쁨은 너가 벤틀리를 끄는 거야|김승민\n",
      "인생찬가|임영웅\n",
      "사랑인가 봐|멜로망스 (MeloMance)\n",
      "SNEAKERS|ITZY (있지)\n",
      "취중고백|김민석 (멜로망스)\n",
      "나의 X에게|경서\n",
      "내가 아니라도|주호\n",
      "정이라고 하자 (Feat. 10CM)|BIG Naughty (서동현)\n",
      "ELEVEN|IVE (아이브)\n",
      "해요 (2022)|#안녕\n",
      "도깨비불 (Illusion)|aespa\n",
      "That That (Prod. & Feat. SUGA of BTS)|싸이 (Psy)\n",
      "I Don't Think That I Like Her|Charlie Puth\n",
      "FEARLESS|LE SSERAFIM (르세라핌)\n",
      "LOVE me|BE'O (비오)\n",
      "다정히 내 이름을 부르면|경서예지 & 전건호\n",
      "Love story|볼빨간사춘기\n"
     ]
    }
   ],
   "source": [
    "from selenium import webdriver\n",
    "from bs4 import BeautifulSoup\n",
    "\n",
    "driver = webdriver.Chrome('/usr/local/bin/chromedriver')\n",
    "url = 'https://www.genie.co.kr/chart/top200'\n",
    "driver.get(url)\n",
    "\n",
    "html = driver.page_source\n",
    "soup = BeautifulSoup(html, 'html.parser') # 여기까진 지니 사이트 정보를 가져온다.\n",
    "\n",
    "songs = soup.select('table > tbody > tr')\n",
    "print(len(songs)) # tr 태그 개수 출력\n",
    "\n",
    "song = songs[0]\n",
    "title = song.select('a.title')\n",
    "title = song.select('a.title')[0].text.strip() # 제목 추출\n",
    "\n",
    "singer = song.select('a.artist')[0].text # 가수 추출\n",
    "\n",
    "songs = soup.select('tbody > tr')\n",
    "for song in songs:\n",
    "\ttitle = song.select('a.title')[0].text.strip()\n",
    "\tsinger = song.select('a.artist')[0].text\n",
    "\tprint(title, singer,sep = '|')"
   ]
  },
  {
   "cell_type": "code",
   "execution_count": null,
   "outputs": [],
   "source": [],
   "metadata": {
    "collapsed": false
   }
  }
 ],
 "metadata": {
  "kernelspec": {
   "display_name": "Python 3",
   "language": "python",
   "name": "python3"
  },
  "language_info": {
   "codemirror_mode": {
    "name": "ipython",
    "version": 2
   },
   "file_extension": ".py",
   "mimetype": "text/x-python",
   "name": "python",
   "nbconvert_exporter": "python",
   "pygments_lexer": "ipython2",
   "version": "2.7.6"
  }
 },
 "nbformat": 4,
 "nbformat_minor": 0
}
