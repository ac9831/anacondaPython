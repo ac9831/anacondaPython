{
 "cells": [
  {
   "cell_type": "code",
   "execution_count": 9,
   "metadata": {
    "collapsed": true
   },
   "outputs": [
    {
     "name": "stdout",
     "output_type": "stream",
     "text": [
      "<class 'pandas.core.frame.DataFrame'>\n",
      "Int64Index: 250 entries, 0 to 49\n",
      "Data columns (total 4 columns):\n",
      " #   Column  Non-Null Count  Dtype \n",
      "---  ------  --------------  ----- \n",
      " 0   서비스     250 non-null    object\n",
      " 1   순위      250 non-null    int64 \n",
      " 2   타이틀     250 non-null    object\n",
      " 3   가수      250 non-null    object\n",
      "dtypes: int64(1), object(3)\n",
      "memory usage: 9.8+ KB\n"
     ]
    },
    {
     "name": "stderr",
     "output_type": "stream",
     "text": [
      "/var/folders/xt/8qr62kp95_b0l28lz8q0hq6w0000gn/T/ipykernel_79201/3237975091.py:72: FutureWarning: The frame.append method is deprecated and will be removed from pandas in a future version. Use pandas.concat instead.\n",
      "  appended_data = appended_data.append(pd_data)\n",
      "/var/folders/xt/8qr62kp95_b0l28lz8q0hq6w0000gn/T/ipykernel_79201/3237975091.py:72: FutureWarning: The frame.append method is deprecated and will be removed from pandas in a future version. Use pandas.concat instead.\n",
      "  appended_data = appended_data.append(pd_data)\n",
      "/var/folders/xt/8qr62kp95_b0l28lz8q0hq6w0000gn/T/ipykernel_79201/3237975091.py:72: FutureWarning: The frame.append method is deprecated and will be removed from pandas in a future version. Use pandas.concat instead.\n",
      "  appended_data = appended_data.append(pd_data)\n"
     ]
    }
   ],
   "source": [
    "from selenium import webdriver\n",
    "from bs4 import BeautifulSoup\n",
    "import pandas as pd\n",
    "\n",
    "driver = webdriver.Chrome('/usr/local/bin/chromedriver')\n",
    "\n",
    "#### Genie\n",
    "url = 'https://www.genie.co.kr/chart/top200'\n",
    "driver.get(url)\n",
    "\n",
    "html = driver.page_source\n",
    "soup = BeautifulSoup(html, 'html.parser')\n",
    "\n",
    "songs = soup.select('table > tbody > tr')\n",
    "song_data = []\n",
    "rank = 1\n",
    "for song in songs:\n",
    "\ttitle = song.select('a.title')[0].text.strip()\n",
    "\tsinger = song.select('a.artist')[0].text\n",
    "\tsong_data.append(['Genie', rank, title, singer])\n",
    "\trank = rank + 1\n",
    "\n",
    "columns = ['서비스', '순위', '타이틀', '가수']\n",
    "pd_data = pd.DataFrame(song_data, columns = columns)\n",
    "pd_data.to_excel('./files/genie.xlsx', index=False)\n",
    "\n",
    "#### Melon\n",
    "url = 'https://www.melon.com/chart/index.htm'\n",
    "driver.get(url)\n",
    "\n",
    "html = driver.page_source\n",
    "soup = BeautifulSoup(html, 'html.parser')\n",
    "\n",
    "songs = soup.select('table > tbody > tr')\n",
    "song_data = []\n",
    "rank = 1\n",
    "for song in songs:\n",
    "\ttitle = song.select('div.rank01 > span > a')[0].text\n",
    "\tsinger = song.select('div.rank02 > a')[0].text\n",
    "\tsong_data.append(['Melon', rank, title, singer])\n",
    "\trank = rank + 1\n",
    "\n",
    "columns = ['서비스', '순위', '타이틀', '가수']\n",
    "pd_data = pd.DataFrame(song_data, columns = columns)\n",
    "pd_data.to_excel('./files/melon.xlsx', index=False)\n",
    "\n",
    "\n",
    "#### Bugs\n",
    "url = 'https://music.bugs.co.kr/chart'\n",
    "driver.get(url)\n",
    "\n",
    "html = driver.page_source\n",
    "soup = BeautifulSoup(html, 'html.parser')\n",
    "\n",
    "songs = soup.select('table.byChart > tbody > tr')\n",
    "song_data = []\n",
    "rank = 1\n",
    "for song in songs:\n",
    "\ttitle = song.select('p.title > a')[0].text\n",
    "\tsinger = song.select('p.artist > a')[0].text\n",
    "\tsong_data.append(['Bugs', rank, title, singer])\n",
    "\trank = rank + 1\n",
    "\n",
    "columns = ['서비스', '순위', '타이틀', '가수']\n",
    "pd_data = pd.DataFrame(song_data, columns = columns)\n",
    "pd_data.to_excel('./files/bugs.xlsx', index=False)\n",
    "\n",
    "excel_names = ['./files/melon.xlsx', './files/bugs.xlsx', './files/genie.xlsx']\n",
    "appended_data = pd.DataFrame()\n",
    "for name in excel_names:\n",
    "\tpd_data = pd.read_excel(name)\n",
    "\tappended_data = appended_data.append(pd_data)\n",
    "\n",
    "appended_data.info()\n",
    "appended_data.to_excel('./files/total.xlsx', index=False)"
   ]
  },
  {
   "cell_type": "code",
   "execution_count": null,
   "outputs": [],
   "source": [],
   "metadata": {
    "collapsed": false,
    "pycharm": {
     "is_executing": true
    }
   }
  },
  {
   "cell_type": "code",
   "execution_count": null,
   "outputs": [],
   "source": [],
   "metadata": {
    "collapsed": false,
    "pycharm": {
     "is_executing": true
    }
   }
  },
  {
   "cell_type": "code",
   "execution_count": 7,
   "outputs": [],
   "source": [],
   "metadata": {
    "collapsed": false
   }
  }
 ],
 "metadata": {
  "kernelspec": {
   "display_name": "Python 3",
   "language": "python",
   "name": "python3"
  },
  "language_info": {
   "codemirror_mode": {
    "name": "ipython",
    "version": 2
   },
   "file_extension": ".py",
   "mimetype": "text/x-python",
   "name": "python",
   "nbconvert_exporter": "python",
   "pygments_lexer": "ipython2",
   "version": "2.7.6"
  }
 },
 "nbformat": 4,
 "nbformat_minor": 0
}
